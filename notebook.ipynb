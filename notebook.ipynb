{
 "cells": [
  {
   "cell_type": "markdown",
   "metadata": {},
   "source": [
    "In this notebook, I perform customer segmentation for a (fake) businessperson with an ownership stake in 10 malls across Istanbul.\n",
    "\n",
    "**DATA**\n",
    "\n",
    "I obtained data\n",
    "- from [this Kaggle posting](https://www.kaggle.com/datasets/mehmettahiraslan/customer-shopping-dataset)\n",
    "- on 99,457 transactions\n",
    "- occurring at 10 malls in Istanbul\n",
    "- between the beginning of 2021 and late 2023.\n",
    "\n",
    "**METHODS**\n",
    "- K means clustering is the method applied to group customers.\n",
    "- Principal component analysis is also used to visualize the clusters and improve the performance of the clustering algorithm."
   ]
  },
  {
   "cell_type": "markdown",
   "metadata": {},
   "source": [
    "#### Imports"
   ]
  },
  {
   "cell_type": "code",
   "execution_count": 2,
   "metadata": {},
   "outputs": [],
   "source": [
    "from zipfile import ZipFile\n",
    "\n",
    "import pandas as pd\n",
    "import numpy as np\n",
    "\n",
    "import matplotlib.pyplot as plt"
   ]
  },
  {
   "cell_type": "markdown",
   "metadata": {},
   "source": [
    "#### Load Data"
   ]
  },
  {
   "cell_type": "code",
   "execution_count": 14,
   "metadata": {
    "scrolled": false
   },
   "outputs": [
    {
     "data": {
      "text/html": [
       "<div>\n",
       "<style scoped>\n",
       "    .dataframe tbody tr th:only-of-type {\n",
       "        vertical-align: middle;\n",
       "    }\n",
       "\n",
       "    .dataframe tbody tr th {\n",
       "        vertical-align: top;\n",
       "    }\n",
       "\n",
       "    .dataframe thead th {\n",
       "        text-align: right;\n",
       "    }\n",
       "</style>\n",
       "<table border=\"1\" class=\"dataframe\">\n",
       "  <thead>\n",
       "    <tr style=\"text-align: right;\">\n",
       "      <th></th>\n",
       "      <th>invoice_no</th>\n",
       "      <th>customer_id</th>\n",
       "      <th>gender</th>\n",
       "      <th>age</th>\n",
       "      <th>category</th>\n",
       "      <th>quantity</th>\n",
       "      <th>price</th>\n",
       "      <th>payment_method</th>\n",
       "      <th>invoice_date</th>\n",
       "      <th>shopping_mall</th>\n",
       "    </tr>\n",
       "  </thead>\n",
       "  <tbody>\n",
       "    <tr>\n",
       "      <th>0</th>\n",
       "      <td>I138884</td>\n",
       "      <td>C241288</td>\n",
       "      <td>Female</td>\n",
       "      <td>28</td>\n",
       "      <td>Clothing</td>\n",
       "      <td>5</td>\n",
       "      <td>1500.40</td>\n",
       "      <td>Credit Card</td>\n",
       "      <td>5/8/2022</td>\n",
       "      <td>Kanyon</td>\n",
       "    </tr>\n",
       "    <tr>\n",
       "      <th>1</th>\n",
       "      <td>I317333</td>\n",
       "      <td>C111565</td>\n",
       "      <td>Male</td>\n",
       "      <td>21</td>\n",
       "      <td>Shoes</td>\n",
       "      <td>3</td>\n",
       "      <td>1800.51</td>\n",
       "      <td>Debit Card</td>\n",
       "      <td>12/12/2021</td>\n",
       "      <td>Forum Istanbul</td>\n",
       "    </tr>\n",
       "    <tr>\n",
       "      <th>2</th>\n",
       "      <td>I127801</td>\n",
       "      <td>C266599</td>\n",
       "      <td>Male</td>\n",
       "      <td>20</td>\n",
       "      <td>Clothing</td>\n",
       "      <td>1</td>\n",
       "      <td>300.08</td>\n",
       "      <td>Cash</td>\n",
       "      <td>9/11/2021</td>\n",
       "      <td>Metrocity</td>\n",
       "    </tr>\n",
       "    <tr>\n",
       "      <th>3</th>\n",
       "      <td>I173702</td>\n",
       "      <td>C988172</td>\n",
       "      <td>Female</td>\n",
       "      <td>66</td>\n",
       "      <td>Shoes</td>\n",
       "      <td>5</td>\n",
       "      <td>3000.85</td>\n",
       "      <td>Credit Card</td>\n",
       "      <td>16/05/2021</td>\n",
       "      <td>Metropol AVM</td>\n",
       "    </tr>\n",
       "    <tr>\n",
       "      <th>4</th>\n",
       "      <td>I337046</td>\n",
       "      <td>C189076</td>\n",
       "      <td>Female</td>\n",
       "      <td>53</td>\n",
       "      <td>Books</td>\n",
       "      <td>4</td>\n",
       "      <td>60.60</td>\n",
       "      <td>Cash</td>\n",
       "      <td>24/10/2021</td>\n",
       "      <td>Kanyon</td>\n",
       "    </tr>\n",
       "  </tbody>\n",
       "</table>\n",
       "</div>"
      ],
      "text/plain": [
       "  invoice_no customer_id  gender  age  category  quantity    price  \\\n",
       "0    I138884     C241288  Female   28  Clothing         5  1500.40   \n",
       "1    I317333     C111565    Male   21     Shoes         3  1800.51   \n",
       "2    I127801     C266599    Male   20  Clothing         1   300.08   \n",
       "3    I173702     C988172  Female   66     Shoes         5  3000.85   \n",
       "4    I337046     C189076  Female   53     Books         4    60.60   \n",
       "\n",
       "  payment_method invoice_date   shopping_mall  \n",
       "0    Credit Card     5/8/2022          Kanyon  \n",
       "1     Debit Card   12/12/2021  Forum Istanbul  \n",
       "2           Cash    9/11/2021       Metrocity  \n",
       "3    Credit Card   16/05/2021    Metropol AVM  \n",
       "4           Cash   24/10/2021          Kanyon  "
      ]
     },
     "execution_count": 14,
     "metadata": {},
     "output_type": "execute_result"
    }
   ],
   "source": [
    "with ZipFile('Data/customer_shopping.zip') as zipArchive:\n",
    "    with zipArchive.open('customer_shopping_data.csv') as f:\n",
    "        raw = pd.read_csv(f)\n",
    "raw.head()"
   ]
  },
  {
   "cell_type": "markdown",
   "metadata": {},
   "source": [
    "#### Data Manipulation and Exploration"
   ]
  },
  {
   "cell_type": "code",
   "execution_count": 8,
   "metadata": {},
   "outputs": [
    {
     "data": {
      "text/plain": [
       "(99457, 10)"
      ]
     },
     "execution_count": 8,
     "metadata": {},
     "output_type": "execute_result"
    }
   ],
   "source": [
    "raw.shape"
   ]
  },
  {
   "cell_type": "code",
   "execution_count": 9,
   "metadata": {},
   "outputs": [
    {
     "data": {
      "text/plain": [
       "Mall of Istanbul     0.200519\n",
       "Kanyon               0.199312\n",
       "Metrocity            0.150930\n",
       "Metropol AVM         0.102165\n",
       "Istinye Park         0.098344\n",
       "Zorlu Center         0.051027\n",
       "Cevahir AVM          0.050182\n",
       "Forum Istanbul       0.049740\n",
       "Viaport Outlet       0.049408\n",
       "Emaar Square Mall    0.048373\n",
       "Name: shopping_mall, dtype: float64"
      ]
     },
     "execution_count": 9,
     "metadata": {},
     "output_type": "execute_result"
    }
   ],
   "source": [
    "raw.shopping_mall.value_counts(normalize=True)"
   ]
  },
  {
   "cell_type": "code",
   "execution_count": 180,
   "metadata": {},
   "outputs": [],
   "source": [
    "data = raw.copy()"
   ]
  },
  {
   "cell_type": "code",
   "execution_count": 181,
   "metadata": {},
   "outputs": [],
   "source": [
    "data['invoice_date'] = pd.to_datetime(raw.invoice_date)"
   ]
  },
  {
   "cell_type": "code",
   "execution_count": 182,
   "metadata": {},
   "outputs": [
    {
     "data": {
      "text/plain": [
       "Timestamp('2021-01-01 00:00:00')"
      ]
     },
     "execution_count": 182,
     "metadata": {},
     "output_type": "execute_result"
    }
   ],
   "source": [
    "data.invoice_date.min()"
   ]
  },
  {
   "cell_type": "code",
   "execution_count": 183,
   "metadata": {},
   "outputs": [
    {
     "data": {
      "text/plain": [
       "Timestamp('2023-12-02 00:00:00')"
      ]
     },
     "execution_count": 183,
     "metadata": {},
     "output_type": "execute_result"
    }
   ],
   "source": [
    "data.invoice_date.max()"
   ]
  },
  {
   "cell_type": "markdown",
   "metadata": {},
   "source": [
    "Data begins at the beginning of the year in 2021 and continues until the end of December 1st in 2023 (almost 2 years of data.)"
   ]
  },
  {
   "cell_type": "code",
   "execution_count": 22,
   "metadata": {},
   "outputs": [
    {
     "data": {
      "text/plain": [
       "C212434    1\n",
       "C242489    1\n",
       "C169646    1\n",
       "C201572    1\n",
       "C276012    1\n",
       "          ..\n",
       "C962346    1\n",
       "C298363    1\n",
       "C907544    1\n",
       "C124476    1\n",
       "C552345    1\n",
       "Name: customer_id, Length: 99457, dtype: int64"
      ]
     },
     "execution_count": 22,
     "metadata": {},
     "output_type": "execute_result"
    }
   ],
   "source": [
    "data.customer_id.value_counts()"
   ]
  },
  {
   "cell_type": "markdown",
   "metadata": {},
   "source": [
    "Each customer is only represented once in the dataset, so I'm not sure that we have enough information to perform a customer segmentation as I envisioned it (based on shopping habits over time.)\n",
    "\n",
    "Instead, we'll have to segment customers by the single purchase recorded in our dataset and demographic information like age and gender."
   ]
  },
  {
   "cell_type": "code",
   "execution_count": 23,
   "metadata": {},
   "outputs": [
    {
     "data": {
      "text/plain": [
       "Clothing           0.346753\n",
       "Cosmetics          0.151794\n",
       "Food & Beverage    0.148567\n",
       "Toys               0.101421\n",
       "Shoes              0.100888\n",
       "Souvenir           0.050263\n",
       "Technology         0.050233\n",
       "Books              0.050082\n",
       "Name: category, dtype: float64"
      ]
     },
     "execution_count": 23,
     "metadata": {},
     "output_type": "execute_result"
    }
   ],
   "source": [
    "data.category.value_counts(normalize=True)"
   ]
  },
  {
   "cell_type": "code",
   "execution_count": 24,
   "metadata": {},
   "outputs": [
    {
     "data": {
      "text/plain": [
       "Female    0.598068\n",
       "Male      0.401932\n",
       "Name: gender, dtype: float64"
      ]
     },
     "execution_count": 24,
     "metadata": {},
     "output_type": "execute_result"
    }
   ],
   "source": [
    "data.gender.value_counts(normalize=True)"
   ]
  },
  {
   "cell_type": "code",
   "execution_count": 26,
   "metadata": {},
   "outputs": [
    {
     "data": {
      "image/png": "[encoded data removed]",
      "text/plain": [
       "<Figure size 432x288 with 1 Axes>"
      ]
     },
     "metadata": {
      "needs_background": "light"
     },
     "output_type": "display_data"
    }
   ],
   "source": [
    "data.age.plot(kind='hist');"
   ]
  },
  {
   "cell_type": "code",
   "execution_count": 29,
   "metadata": {},
   "outputs": [
    {
     "data": {
      "image/png": "[encoded data removed]",
      "text/plain": [
       "<Figure size 432x288 with 1 Axes>"
      ]
     },
     "metadata": {
      "needs_background": "light"
     },
     "output_type": "display_data"
    }
   ],
   "source": [
    "data.quantity.plot(kind='box');"
   ]
  },
  {
   "cell_type": "code",
   "execution_count": 30,
   "metadata": {},
   "outputs": [
    {
     "data": {
      "image/png": "[encoded data removed]",
      "text/plain": [
       "<Figure size 432x288 with 1 Axes>"
      ]
     },
     "metadata": {
      "needs_background": "light"
     },
     "output_type": "display_data"
    }
   ],
   "source": [
    "data.price.plot(kind='box');"
   ]
  },
  {
   "cell_type": "code",
   "execution_count": 184,
   "metadata": {},
   "outputs": [],
   "source": [
    "data['avg_price_per_item'] = data['price'] / data['quantity']"
   ]
  },
  {
   "cell_type": "code",
   "execution_count": 185,
   "metadata": {},
   "outputs": [
    {
     "data": {
      "image/png": "[encoded data removed]",
      "text/plain": [
       "<Figure size 432x288 with 1 Axes>"
      ]
     },
     "metadata": {
      "needs_background": "light"
     },
     "output_type": "display_data"
    }
   ],
   "source": [
    "data['avg_price_per_item'].plot(kind='box');"
   ]
  },
  {
   "cell_type": "code",
   "execution_count": 33,
   "metadata": {},
   "outputs": [
    {
     "data": {
      "text/plain": [
       "Cash           0.446897\n",
       "Credit Card    0.351217\n",
       "Debit Card     0.201886\n",
       "Name: payment_method, dtype: float64"
      ]
     },
     "execution_count": 33,
     "metadata": {},
     "output_type": "execute_result"
    }
   ],
   "source": [
    "data.payment_method.value_counts(normalize=True)"
   ]
  },
  {
   "cell_type": "code",
   "execution_count": 186,
   "metadata": {},
   "outputs": [
    {
     "data": {
      "text/html": [
       "<div>\n",
       "<style scoped>\n",
       "    .dataframe tbody tr th:only-of-type {\n",
       "        vertical-align: middle;\n",
       "    }\n",
       "\n",
       "    .dataframe tbody tr th {\n",
       "        vertical-align: top;\n",
       "    }\n",
       "\n",
       "    .dataframe thead th {\n",
       "        text-align: right;\n",
       "    }\n",
       "</style>\n",
       "<table border=\"1\" class=\"dataframe\">\n",
       "  <thead>\n",
       "    <tr style=\"text-align: right;\">\n",
       "      <th></th>\n",
       "      <th>invoice_no</th>\n",
       "      <th>customer_id</th>\n",
       "      <th>gender</th>\n",
       "      <th>age</th>\n",
       "      <th>category</th>\n",
       "      <th>quantity</th>\n",
       "      <th>price</th>\n",
       "      <th>payment_method</th>\n",
       "      <th>invoice_date</th>\n",
       "      <th>shopping_mall</th>\n",
       "      <th>avg_price_per_item</th>\n",
       "    </tr>\n",
       "  </thead>\n",
       "  <tbody>\n",
       "    <tr>\n",
       "      <th>0</th>\n",
       "      <td>I138884</td>\n",
       "      <td>C241288</td>\n",
       "      <td>Female</td>\n",
       "      <td>28</td>\n",
       "      <td>Clothing</td>\n",
       "      <td>5</td>\n",
       "      <td>1500.40</td>\n",
       "      <td>Credit Card</td>\n",
       "      <td>2022-05-08</td>\n",
       "      <td>Kanyon</td>\n",
       "      <td>300.08</td>\n",
       "    </tr>\n",
       "    <tr>\n",
       "      <th>1</th>\n",
       "      <td>I317333</td>\n",
       "      <td>C111565</td>\n",
       "      <td>Male</td>\n",
       "      <td>21</td>\n",
       "      <td>Shoes</td>\n",
       "      <td>3</td>\n",
       "      <td>1800.51</td>\n",
       "      <td>Debit Card</td>\n",
       "      <td>2021-12-12</td>\n",
       "      <td>Forum Istanbul</td>\n",
       "      <td>600.17</td>\n",
       "    </tr>\n",
       "    <tr>\n",
       "      <th>2</th>\n",
       "      <td>I127801</td>\n",
       "      <td>C266599</td>\n",
       "      <td>Male</td>\n",
       "      <td>20</td>\n",
       "      <td>Clothing</td>\n",
       "      <td>1</td>\n",
       "      <td>300.08</td>\n",
       "      <td>Cash</td>\n",
       "      <td>2021-09-11</td>\n",
       "      <td>Metrocity</td>\n",
       "      <td>300.08</td>\n",
       "    </tr>\n",
       "    <tr>\n",
       "      <th>3</th>\n",
       "      <td>I173702</td>\n",
       "      <td>C988172</td>\n",
       "      <td>Female</td>\n",
       "      <td>66</td>\n",
       "      <td>Shoes</td>\n",
       "      <td>5</td>\n",
       "      <td>3000.85</td>\n",
       "      <td>Credit Card</td>\n",
       "      <td>2021-05-16</td>\n",
       "      <td>Metropol AVM</td>\n",
       "      <td>600.17</td>\n",
       "    </tr>\n",
       "    <tr>\n",
       "      <th>4</th>\n",
       "      <td>I337046</td>\n",
       "      <td>C189076</td>\n",
       "      <td>Female</td>\n",
       "      <td>53</td>\n",
       "      <td>Books</td>\n",
       "      <td>4</td>\n",
       "      <td>60.60</td>\n",
       "      <td>Cash</td>\n",
       "      <td>2021-10-24</td>\n",
       "      <td>Kanyon</td>\n",
       "      <td>15.15</td>\n",
       "    </tr>\n",
       "  </tbody>\n",
       "</table>\n",
       "</div>"
      ],
      "text/plain": [
       "  invoice_no customer_id  gender  age  category  quantity    price  \\\n",
       "0    I138884     C241288  Female   28  Clothing         5  1500.40   \n",
       "1    I317333     C111565    Male   21     Shoes         3  1800.51   \n",
       "2    I127801     C266599    Male   20  Clothing         1   300.08   \n",
       "3    I173702     C988172  Female   66     Shoes         5  3000.85   \n",
       "4    I337046     C189076  Female   53     Books         4    60.60   \n",
       "\n",
       "  payment_method invoice_date   shopping_mall  avg_price_per_item  \n",
       "0    Credit Card   2022-05-08          Kanyon              300.08  \n",
       "1     Debit Card   2021-12-12  Forum Istanbul              600.17  \n",
       "2           Cash   2021-09-11       Metrocity              300.08  \n",
       "3    Credit Card   2021-05-16    Metropol AVM              600.17  \n",
       "4           Cash   2021-10-24          Kanyon               15.15  "
      ]
     },
     "execution_count": 186,
     "metadata": {},
     "output_type": "execute_result"
    }
   ],
   "source": [
    "data.head()"
   ]
  },
  {
   "cell_type": "markdown",
   "metadata": {},
   "source": [
    "For the customer segmentation, let's ignore shopping mall because we want to capture patterns in customer consuption, not necessarily their geographic location. Because our customers are each only represented once in our dataset, I'm not sure how much information about the customer we will get from the last time that they bought an item at one of these malls, so let's ignore invoice_date as well."
   ]
  },
  {
   "cell_type": "code",
   "execution_count": 192,
   "metadata": {},
   "outputs": [
    {
     "data": {
      "text/html": [
       "<div>\n",
       "<style scoped>\n",
       "    .dataframe tbody tr th:only-of-type {\n",
       "        vertical-align: middle;\n",
       "    }\n",
       "\n",
       "    .dataframe tbody tr th {\n",
       "        vertical-align: top;\n",
       "    }\n",
       "\n",
       "    .dataframe thead th {\n",
       "        text-align: right;\n",
       "    }\n",
       "</style>\n",
       "<table border=\"1\" class=\"dataframe\">\n",
       "  <thead>\n",
       "    <tr style=\"text-align: right;\">\n",
       "      <th></th>\n",
       "      <th>gender</th>\n",
       "      <th>age</th>\n",
       "      <th>category</th>\n",
       "      <th>quantity</th>\n",
       "      <th>price</th>\n",
       "      <th>payment_method</th>\n",
       "      <th>avg_price_per_item</th>\n",
       "    </tr>\n",
       "  </thead>\n",
       "  <tbody>\n",
       "    <tr>\n",
       "      <th>0</th>\n",
       "      <td>Female</td>\n",
       "      <td>28</td>\n",
       "      <td>Clothing</td>\n",
       "      <td>5</td>\n",
       "      <td>1500.40</td>\n",
       "      <td>Credit Card</td>\n",
       "      <td>300.08</td>\n",
       "    </tr>\n",
       "    <tr>\n",
       "      <th>1</th>\n",
       "      <td>Male</td>\n",
       "      <td>21</td>\n",
       "      <td>Shoes</td>\n",
       "      <td>3</td>\n",
       "      <td>1800.51</td>\n",
       "      <td>Debit Card</td>\n",
       "      <td>600.17</td>\n",
       "    </tr>\n",
       "  </tbody>\n",
       "</table>\n",
       "</div>"
      ],
      "text/plain": [
       "   gender  age  category  quantity    price payment_method  avg_price_per_item\n",
       "0  Female   28  Clothing         5  1500.40    Credit Card              300.08\n",
       "1    Male   21     Shoes         3  1800.51     Debit Card              600.17"
      ]
     },
     "execution_count": 192,
     "metadata": {},
     "output_type": "execute_result"
    }
   ],
   "source": [
    "data.drop(['customer_id', 'invoice_no', 'invoice_date', 'shopping_mall'], axis=1, inplace=True)\n",
    "data.head(2)"
   ]
  },
  {
   "cell_type": "code",
   "execution_count": 187,
   "metadata": {},
   "outputs": [],
   "source": [
    "from sklearn.preprocessing import OneHotEncoder\n",
    "\n",
    "ohe = OneHotEncoder(handle_unknown='ignore')\n",
    "\n",
    "transformed = pd.concat([\n",
    "    pd.DataFrame(ohe.fit_transform(data[['gender', 'category', 'payment_method']]).todense(),\n",
    "                 columns=np.concatenate(ohe.categories_, axis=0)),\n",
    "    data[['quantity', 'price']]\n",
    "],\n",
    "    axis=1)"
   ]
  },
  {
   "cell_type": "code",
   "execution_count": 188,
   "metadata": {},
   "outputs": [
    {
     "data": {
      "text/html": [
       "<div>\n",
       "<style scoped>\n",
       "    .dataframe tbody tr th:only-of-type {\n",
       "        vertical-align: middle;\n",
       "    }\n",
       "\n",
       "    .dataframe tbody tr th {\n",
       "        vertical-align: top;\n",
       "    }\n",
       "\n",
       "    .dataframe thead th {\n",
       "        text-align: right;\n",
       "    }\n",
       "</style>\n",
       "<table border=\"1\" class=\"dataframe\">\n",
       "  <thead>\n",
       "    <tr style=\"text-align: right;\">\n",
       "      <th></th>\n",
       "      <th>Female</th>\n",
       "      <th>Male</th>\n",
       "      <th>Books</th>\n",
       "      <th>Clothing</th>\n",
       "      <th>Cosmetics</th>\n",
       "      <th>Food &amp; Beverage</th>\n",
       "      <th>Shoes</th>\n",
       "      <th>Souvenir</th>\n",
       "      <th>Technology</th>\n",
       "      <th>Toys</th>\n",
       "      <th>Cash</th>\n",
       "      <th>Credit Card</th>\n",
       "      <th>Debit Card</th>\n",
       "      <th>quantity</th>\n",
       "      <th>price</th>\n",
       "    </tr>\n",
       "  </thead>\n",
       "  <tbody>\n",
       "    <tr>\n",
       "      <th>0</th>\n",
       "      <td>1.0</td>\n",
       "      <td>0.0</td>\n",
       "      <td>0.0</td>\n",
       "      <td>1.0</td>\n",
       "      <td>0.0</td>\n",
       "      <td>0.0</td>\n",
       "      <td>0.0</td>\n",
       "      <td>0.0</td>\n",
       "      <td>0.0</td>\n",
       "      <td>0.0</td>\n",
       "      <td>0.0</td>\n",
       "      <td>1.0</td>\n",
       "      <td>0.0</td>\n",
       "      <td>5</td>\n",
       "      <td>1500.40</td>\n",
       "    </tr>\n",
       "    <tr>\n",
       "      <th>1</th>\n",
       "      <td>0.0</td>\n",
       "      <td>1.0</td>\n",
       "      <td>0.0</td>\n",
       "      <td>0.0</td>\n",
       "      <td>0.0</td>\n",
       "      <td>0.0</td>\n",
       "      <td>1.0</td>\n",
       "      <td>0.0</td>\n",
       "      <td>0.0</td>\n",
       "      <td>0.0</td>\n",
       "      <td>0.0</td>\n",
       "      <td>0.0</td>\n",
       "      <td>1.0</td>\n",
       "      <td>3</td>\n",
       "      <td>1800.51</td>\n",
       "    </tr>\n",
       "  </tbody>\n",
       "</table>\n",
       "</div>"
      ],
      "text/plain": [
       "   Female  Male  Books  Clothing  Cosmetics  Food & Beverage  Shoes  Souvenir  \\\n",
       "0     1.0   0.0    0.0       1.0        0.0              0.0    0.0       0.0   \n",
       "1     0.0   1.0    0.0       0.0        0.0              0.0    1.0       0.0   \n",
       "\n",
       "   Technology  Toys  Cash  Credit Card  Debit Card  quantity    price  \n",
       "0         0.0   0.0   0.0          1.0         0.0         5  1500.40  \n",
       "1         0.0   0.0   0.0          0.0         1.0         3  1800.51  "
      ]
     },
     "execution_count": 188,
     "metadata": {},
     "output_type": "execute_result"
    }
   ],
   "source": [
    "transformed.head(2)"
   ]
  },
  {
   "cell_type": "code",
   "execution_count": 189,
   "metadata": {},
   "outputs": [],
   "source": [
    "from sklearn.preprocessing import StandardScaler\n",
    "\n",
    "ss = StandardScaler()\n",
    "\n",
    "transformed = pd.DataFrame(ss.fit_transform(transformed),\n",
    "                           index=transformed.index,\n",
    "                           columns=transformed.columns)"
   ]
  },
  {
   "cell_type": "code",
   "execution_count": 190,
   "metadata": {},
   "outputs": [
    {
     "data": {
      "text/html": [
       "<div>\n",
       "<style scoped>\n",
       "    .dataframe tbody tr th:only-of-type {\n",
       "        vertical-align: middle;\n",
       "    }\n",
       "\n",
       "    .dataframe tbody tr th {\n",
       "        vertical-align: top;\n",
       "    }\n",
       "\n",
       "    .dataframe thead th {\n",
       "        text-align: right;\n",
       "    }\n",
       "</style>\n",
       "<table border=\"1\" class=\"dataframe\">\n",
       "  <thead>\n",
       "    <tr style=\"text-align: right;\">\n",
       "      <th></th>\n",
       "      <th>Female</th>\n",
       "      <th>Male</th>\n",
       "      <th>Books</th>\n",
       "      <th>Clothing</th>\n",
       "      <th>Cosmetics</th>\n",
       "      <th>Food &amp; Beverage</th>\n",
       "      <th>Shoes</th>\n",
       "      <th>Souvenir</th>\n",
       "      <th>Technology</th>\n",
       "      <th>Toys</th>\n",
       "      <th>Cash</th>\n",
       "      <th>Credit Card</th>\n",
       "      <th>Debit Card</th>\n",
       "      <th>quantity</th>\n",
       "      <th>price</th>\n",
       "    </tr>\n",
       "  </thead>\n",
       "  <tbody>\n",
       "    <tr>\n",
       "      <th>0</th>\n",
       "      <td>0.819788</td>\n",
       "      <td>-0.819788</td>\n",
       "      <td>-0.229614</td>\n",
       "      <td>1.372552</td>\n",
       "      <td>-0.423036</td>\n",
       "      <td>-0.41772</td>\n",
       "      <td>-0.334975</td>\n",
       "      <td>-0.23005</td>\n",
       "      <td>-0.229977</td>\n",
       "      <td>-0.335958</td>\n",
       "      <td>-0.898877</td>\n",
       "      <td>1.359133</td>\n",
       "      <td>-0.502946</td>\n",
       "      <td>1.412984</td>\n",
       "      <td>0.861837</td>\n",
       "    </tr>\n",
       "    <tr>\n",
       "      <th>1</th>\n",
       "      <td>-1.219828</td>\n",
       "      <td>1.219828</td>\n",
       "      <td>-0.229614</td>\n",
       "      <td>-0.728570</td>\n",
       "      <td>-0.423036</td>\n",
       "      <td>-0.41772</td>\n",
       "      <td>2.985297</td>\n",
       "      <td>-0.23005</td>\n",
       "      <td>-0.229977</td>\n",
       "      <td>-0.335958</td>\n",
       "      <td>-0.898877</td>\n",
       "      <td>-0.735763</td>\n",
       "      <td>1.988287</td>\n",
       "      <td>-0.002426</td>\n",
       "      <td>1.180703</td>\n",
       "    </tr>\n",
       "  </tbody>\n",
       "</table>\n",
       "</div>"
      ],
      "text/plain": [
       "     Female      Male     Books  Clothing  Cosmetics  Food & Beverage  \\\n",
       "0  0.819788 -0.819788 -0.229614  1.372552  -0.423036         -0.41772   \n",
       "1 -1.219828  1.219828 -0.229614 -0.728570  -0.423036         -0.41772   \n",
       "\n",
       "      Shoes  Souvenir  Technology      Toys      Cash  Credit Card  \\\n",
       "0 -0.334975  -0.23005   -0.229977 -0.335958 -0.898877     1.359133   \n",
       "1  2.985297  -0.23005   -0.229977 -0.335958 -0.898877    -0.735763   \n",
       "\n",
       "   Debit Card  quantity     price  \n",
       "0   -0.502946  1.412984  0.861837  \n",
       "1    1.988287 -0.002426  1.180703  "
      ]
     },
     "execution_count": 190,
     "metadata": {},
     "output_type": "execute_result"
    }
   ],
   "source": [
    "transformed.head(2)"
   ]
  },
  {
   "cell_type": "markdown",
   "metadata": {},
   "source": [
    "#### Clustering"
   ]
  },
  {
   "cell_type": "code",
   "execution_count": 129,
   "metadata": {},
   "outputs": [],
   "source": [
    "from sklearn.cluster import KMeans\n",
    "from sklearn.metrics import calinski_harabasz_score as ch_score\n",
    "\n",
    "scores = []\n",
    "for k in range(2,10):\n",
    "    k_means = KMeans(n_clusters=k, random_state=34)\n",
    "    k_means.fit(transformed)\n",
    "    scores.append(ch_score(transformed, k_means.labels_))"
   ]
  },
  {
   "cell_type": "code",
   "execution_count": 130,
   "metadata": {},
   "outputs": [
    {
     "data": {
      "image/png": "[encoded data removed]",
      "text/plain": [
       "<Figure size 432x288 with 1 Axes>"
      ]
     },
     "metadata": {
      "needs_background": "light"
     },
     "output_type": "display_data"
    }
   ],
   "source": [
    "fig, ax = plt.subplots()\n",
    "\n",
    "plt.plot(range(2, 10), scores)\n",
    "ax.set(title='Calinski-harabasz scores with different num of clusters',\n",
    "       xlabel='Number of clusters',\n",
    "       ylabel='Variance Ratio (ch score)')\n",
    "\n",
    "fig.tight_layout();"
   ]
  },
  {
   "cell_type": "markdown",
   "metadata": {},
   "source": [
    "It appears that the variance ratio reaches its minimum at 4 neighbors.\n",
    "\n",
    "After that point, as the number of clusters increases, the ratio of the intra-cluster variance to inter-cluster variance increases steadily. This intuitively makes sense; if there are naturally 4 clusters in the data, then if we split it into 5 clusters, we are splitting a cluster in half which will lower the inter-cluster variance (because we are treating two points which should be in the same cluster as if they are in different clusters.)"
   ]
  },
  {
   "cell_type": "markdown",
   "metadata": {},
   "source": [
    "Let's also record the silhouette score for this model."
   ]
  },
  {
   "cell_type": "code",
   "execution_count": 160,
   "metadata": {},
   "outputs": [
    {
     "data": {
      "text/plain": [
       "0.19934093259952448"
      ]
     },
     "execution_count": 160,
     "metadata": {},
     "output_type": "execute_result"
    }
   ],
   "source": [
    "from sklearn.metrics import silhouette_score\n",
    "\n",
    "k_means = KMeans(n_clusters=4)\n",
    "k_means.fit(transformed)\n",
    "\n",
    "silhouette_score(transformed, k_means.labels_)"
   ]
  },
  {
   "cell_type": "markdown",
   "metadata": {},
   "source": [
    "Check the results of increasing the number of clusters beyond 10."
   ]
  },
  {
   "cell_type": "code",
   "execution_count": 131,
   "metadata": {},
   "outputs": [],
   "source": [
    "scores = []\n",
    "for k in range(2,50):\n",
    "    k_means = KMeans(n_clusters=k, random_state=34)\n",
    "    k_means.fit(transformed)\n",
    "    scores.append(ch_score(transformed, k_means.labels_))"
   ]
  },
  {
   "cell_type": "code",
   "execution_count": 132,
   "metadata": {},
   "outputs": [
    {
     "data": {
      "image/png": "[encoded data removed]",
      "text/plain": [
       "<Figure size 432x288 with 1 Axes>"
      ]
     },
     "metadata": {
      "needs_background": "light"
     },
     "output_type": "display_data"
    }
   ],
   "source": [
    "fig, ax = plt.subplots()\n",
    "\n",
    "plt.plot(range(2, 50), scores)\n",
    "ax.set(title='Calinski-harabasz scores with different num of clusters',\n",
    "       xlabel='Number of clusters',\n",
    "       ylabel='Variance Ratio (ch score)')\n",
    "\n",
    "fig.tight_layout();"
   ]
  },
  {
   "cell_type": "markdown",
   "metadata": {},
   "source": [
    "To visualize the clusters, and possibly enhance the performance of k-means clustering, I am going to experiment with using principal components analysis.\n",
    "\n",
    "For ease of plotting, we can start with two principal components."
   ]
  },
  {
   "cell_type": "code",
   "execution_count": 124,
   "metadata": {},
   "outputs": [],
   "source": [
    "from sklearn.decomposition import PCA\n",
    "\n",
    "pca = PCA(n_components=2, random_state=34)\n",
    "\n",
    "transformed_in_2d = pca.fit_transform(transformed)"
   ]
  },
  {
   "cell_type": "code",
   "execution_count": 125,
   "metadata": {},
   "outputs": [
    {
     "data": {
      "text/plain": [
       "(99457, 2)"
      ]
     },
     "execution_count": 125,
     "metadata": {},
     "output_type": "execute_result"
    }
   ],
   "source": [
    "transformed_in_2d.shape"
   ]
  },
  {
   "cell_type": "code",
   "execution_count": 126,
   "metadata": {},
   "outputs": [
    {
     "data": {
      "image/png": "[encoded data removed]",
      "text/plain": [
       "<Figure size 432x288 with 1 Axes>"
      ]
     },
     "metadata": {
      "needs_background": "light"
     },
     "output_type": "display_data"
    }
   ],
   "source": [
    "fig, ax = plt.subplots()\n",
    "\n",
    "plt.scatter(transformed_in_2d[:, 0], transformed_in_2d[:, 1]);"
   ]
  },
  {
   "cell_type": "markdown",
   "metadata": {},
   "source": [
    "Using principal components analysis with two principal components retained, we see a clear pattern in the data. It looks like there should only be two groups. How much of the variance in the data is captured by the first two principal components?"
   ]
  },
  {
   "cell_type": "code",
   "execution_count": 127,
   "metadata": {},
   "outputs": [
    {
     "data": {
      "text/plain": [
       "array([0.13412572, 0.13331976])"
      ]
     },
     "execution_count": 127,
     "metadata": {},
     "output_type": "execute_result"
    }
   ],
   "source": [
    "pca.explained_variance_ratio_"
   ]
  },
  {
   "cell_type": "markdown",
   "metadata": {},
   "source": [
    "The first component explains ~13.4% of the variance in the data, and the second component also explains about 13% of the variance."
   ]
  },
  {
   "cell_type": "markdown",
   "metadata": {},
   "source": [
    "Let's see how much more variance is explained by a third principal component."
   ]
  },
  {
   "cell_type": "code",
   "execution_count": 135,
   "metadata": {},
   "outputs": [
    {
     "name": "stdout",
     "output_type": "stream",
     "text": [
      "[0.13412572 0.13331976 0.11129851]\n"
     ]
    }
   ],
   "source": [
    "pca = PCA(n_components=3, random_state=34)\n",
    "\n",
    "transformed_in_3d = pca.fit_transform(transformed)\n",
    "\n",
    "print(pca.explained_variance_ratio_)"
   ]
  },
  {
   "cell_type": "markdown",
   "metadata": {},
   "source": [
    "We're now explaining a cumulative total of about 38% of the variance in our data."
   ]
  },
  {
   "cell_type": "markdown",
   "metadata": {},
   "source": [
    "Here is the data in three dimensions visualized using color for the third dimension:"
   ]
  },
  {
   "cell_type": "code",
   "execution_count": 139,
   "metadata": {},
   "outputs": [
    {
     "data": {
      "image/png": "[encoded data removed]",
      "text/plain": [
       "<Figure size 432x288 with 1 Axes>"
      ]
     },
     "metadata": {
      "needs_background": "light"
     },
     "output_type": "display_data"
    }
   ],
   "source": [
    "import seaborn as sns\n",
    "\n",
    "fig, ax = plt.subplots()\n",
    "\n",
    "sns.scatterplot(x=transformed_in_3d[:, 0], y=transformed_in_3d[:, 1], hue=transformed_in_3d[:, 2]);"
   ]
  },
  {
   "cell_type": "markdown",
   "metadata": {},
   "source": [
    "And here is the data in three dimensions visualized spatially:"
   ]
  },
  {
   "cell_type": "code",
   "execution_count": 141,
   "metadata": {},
   "outputs": [
    {
     "data": {
      "image/png": "[encoded data removed]",
      "text/plain": [
       "<Figure size 432x288 with 1 Axes>"
      ]
     },
     "metadata": {
      "needs_background": "light"
     },
     "output_type": "display_data"
    }
   ],
   "source": [
    "fig = plt.figure()\n",
    "ax = fig.add_subplot(projection='3d')\n",
    "\n",
    "ax.scatter(transformed_in_3d[:, 0], transformed_in_3d[:, 1], transformed_in_3d[:, 2]);"
   ]
  },
  {
   "cell_type": "code",
   "execution_count": 143,
   "metadata": {},
   "outputs": [
    {
     "name": "stdout",
     "output_type": "stream",
     "text": [
      "[0.13412572 0.13331976 0.11129851 0.09147993]\n"
     ]
    }
   ],
   "source": [
    "pca = PCA(n_components=4, random_state=34)\n",
    "\n",
    "transformed_in_4d = pca.fit_transform(transformed)\n",
    "\n",
    "print(pca.explained_variance_ratio_)"
   ]
  },
  {
   "cell_type": "code",
   "execution_count": 144,
   "metadata": {},
   "outputs": [
    {
     "data": {
      "text/plain": [
       "0.4702239231196941"
      ]
     },
     "execution_count": 144,
     "metadata": {},
     "output_type": "execute_result"
    }
   ],
   "source": [
    "np.sum(pca.explained_variance_ratio_)"
   ]
  },
  {
   "cell_type": "markdown",
   "metadata": {},
   "source": [
    "Below, the four dimensional data is visualized in 3d with the fourth dimension in color."
   ]
  },
  {
   "cell_type": "code",
   "execution_count": 153,
   "metadata": {},
   "outputs": [
    {
     "name": "stderr",
     "output_type": "stream",
     "text": [
      "/Users/user/opt/anaconda3/envs/learn-env/lib/python3.8/site-packages/matplotlib/collections.py:922: RuntimeWarning: invalid value encountered in sqrt\n",
      "  scale = np.sqrt(self._sizes) * dpi / 72.0 * self._factor\n"
     ]
    },
    {
     "data": {
      "image/png": "[encoded data removed]",
      "text/plain": [
       "<Figure size 432x288 with 1 Axes>"
      ]
     },
     "metadata": {
      "needs_background": "light"
     },
     "output_type": "display_data"
    }
   ],
   "source": [
    "fig = plt.figure()\n",
    "ax = fig.add_subplot(projection='3d')\n",
    "\n",
    "plt.scatter(transformed_in_4d[:,0], transformed_in_4d[:,1], transformed_in_4d[:,2], c=transformed_in_4d[:,3],\n",
    "           cmap='plasma');"
   ]
  },
  {
   "cell_type": "markdown",
   "metadata": {},
   "source": [
    "The straight line patterns in all of these visualizations are interesting to me. However, we're getting away from the point of this notebook - to cluster the mall customers in the dataset provided.\n",
    "\n",
    "Keeping four or fewer components in the dataset is not explaining enough of the variance in the dataset, so I am going to perform principal components analysis with all components kept, examine the cumulative explained variance ratio at each component, and then select an appropriate one to use as a transformer before clustering."
   ]
  },
  {
   "cell_type": "code",
   "execution_count": 155,
   "metadata": {},
   "outputs": [
    {
     "name": "stdout",
     "output_type": "stream",
     "text": [
      "[0.13412572 0.26744549 0.378744   0.47022392 0.55891231 0.63735074\n",
      " 0.71275964 0.7855565  0.85686413 0.9270582  0.9942442  1.\n",
      " 1.         1.         1.        ]\n"
     ]
    }
   ],
   "source": [
    "pca = PCA(random_state=34)\n",
    "\n",
    "principal_components = pca.fit_transform(transformed)\n",
    "\n",
    "print(np.cumsum(pca.explained_variance_ratio_))"
   ]
  },
  {
   "cell_type": "markdown",
   "metadata": {},
   "source": [
    "Based on the cumulative explained variance ratio, we can explain virtually all of the variance in our data with the top 12 principal components (and we can do quite well with only the top 10.)"
   ]
  },
  {
   "cell_type": "code",
   "execution_count": 156,
   "metadata": {},
   "outputs": [],
   "source": [
    "pca = PCA(n_components=10, random_state=34)\n",
    "\n",
    "principal_10_components = pca.fit_transform(transformed)\n",
    "\n",
    "scores = []\n",
    "for k in range(2, 10):\n",
    "    k_means = KMeans(n_clusters=k)\n",
    "    k_means.fit(principal_10_components)\n",
    "    scores.append(ch_score(principal_10_components, k_means.labels_))"
   ]
  },
  {
   "cell_type": "code",
   "execution_count": 157,
   "metadata": {},
   "outputs": [
    {
     "data": {
      "image/png": "[encoded data removed]",
      "text/plain": [
       "<Figure size 432x288 with 1 Axes>"
      ]
     },
     "metadata": {
      "needs_background": "light"
     },
     "output_type": "display_data"
    }
   ],
   "source": [
    "fig, ax = plt.subplots()\n",
    "\n",
    "plt.plot(range(2, 10), scores);"
   ]
  },
  {
   "cell_type": "code",
   "execution_count": 159,
   "metadata": {},
   "outputs": [
    {
     "data": {
      "text/plain": [
       "0.21808711260151856"
      ]
     },
     "execution_count": 159,
     "metadata": {},
     "output_type": "execute_result"
    }
   ],
   "source": [
    "k_means = KMeans(n_clusters=4)\n",
    "k_means.fit(principal_10_components)\n",
    "\n",
    "silhouette_score(principal_10_components, k_means.labels_)"
   ]
  },
  {
   "cell_type": "markdown",
   "metadata": {},
   "source": [
    "The silhouette score does not look promising. But let's try grouping the data using the top 10 principal components and 4 clusters."
   ]
  },
  {
   "cell_type": "code",
   "execution_count": 193,
   "metadata": {},
   "outputs": [],
   "source": [
    "clustered_data = pd.concat([data, pd.Series(k_means.labels_, name='cluster')], axis=1)"
   ]
  },
  {
   "cell_type": "code",
   "execution_count": 194,
   "metadata": {},
   "outputs": [
    {
     "name": "stdout",
     "output_type": "stream",
     "text": [
      "Current cluster: 0\n",
      "Size: 29891, 30% of the data\n",
      "Gender:\n",
      "Male    1.0\n",
      "Name: gender, dtype: float64\n",
      "Age:\n",
      "count    29891.000000\n",
      "mean        43.427152\n",
      "std         15.014310\n",
      "min         18.000000\n",
      "25%         30.000000\n",
      "50%         43.000000\n",
      "75%         56.000000\n",
      "max         69.000000\n",
      "Name: age, dtype: float64\n",
      "Category:\n",
      "Clothing           0.462848\n",
      "Cosmetics          0.201633\n",
      "Food & Beverage    0.199793\n",
      "Books              0.069419\n",
      "Souvenir           0.066308\n",
      "Name: category, dtype: float64\n",
      "Average quantity:\n",
      "3.0022080224816836\n",
      "Stddev:\n",
      "1.4196660871298852\n",
      "Average price:\n",
      "450.17098323910204\n",
      "Average price per item:\n",
      "149.96431333846309\n",
      "Current cluster: 1\n",
      "Size: 10087, 10% of the data\n",
      "Gender:\n",
      "Female    0.603252\n",
      "Male      0.396748\n",
      "Name: gender, dtype: float64\n",
      "Age:\n",
      "count    10087.000000\n",
      "mean        43.326262\n",
      "std         15.081875\n",
      "min         18.000000\n",
      "25%         30.000000\n",
      "50%         43.000000\n",
      "75%         56.000000\n",
      "max         69.000000\n",
      "Name: age, dtype: float64\n",
      "Category:\n",
      "Toys    1.0\n",
      "Name: category, dtype: float64\n",
      "Average quantity:\n",
      "3.0059482502230592\n",
      "Stddev:\n",
      "1.4052690817937152\n",
      "Average price:\n",
      "107.73318528799446\n",
      "Average price per item:\n",
      "35.84000000000001\n",
      "Current cluster: 2\n",
      "Size: 44449, 45% of the data\n",
      "Gender:\n",
      "Female    1.0\n",
      "Name: gender, dtype: float64\n",
      "Age:\n",
      "count    44449.000000\n",
      "mean        43.450224\n",
      "std         14.967713\n",
      "min         18.000000\n",
      "25%         30.000000\n",
      "50%         43.000000\n",
      "75%         56.000000\n",
      "max         69.000000\n",
      "Name: age, dtype: float64\n",
      "Category:\n",
      "Clothing           0.464622\n",
      "Cosmetics          0.204054\n",
      "Food & Beverage    0.198070\n",
      "Souvenir           0.067876\n",
      "Books              0.065378\n",
      "Name: category, dtype: float64\n",
      "Average quantity:\n",
      "3.0015073454970866\n",
      "Stddev:\n",
      "1.411688987848524\n",
      "Average price:\n",
      "452.23095052757094\n",
      "Average price per item:\n",
      "150.54328758802222\n",
      "Current cluster: 3\n",
      "Size: 15030, 15% of the data\n",
      "Gender:\n",
      "Female    0.595343\n",
      "Male      0.404657\n",
      "Name: gender, dtype: float64\n",
      "Age:\n",
      "count    15030.000000\n",
      "mean        43.426214\n",
      "std         14.947139\n",
      "min         18.000000\n",
      "25%         30.000000\n",
      "50%         43.000000\n",
      "75%         56.000000\n",
      "max         69.000000\n",
      "Name: age, dtype: float64\n",
      "Category:\n",
      "Shoes         0.667598\n",
      "Technology    0.332402\n",
      "Name: category, dtype: float64\n",
      "Average quantity:\n",
      "3.009846972721224\n",
      "Stddev:\n",
      "1.409041426255241\n",
      "Average price:\n",
      "2255.9804983366603\n",
      "Average price per item:\n",
      "749.6943300066534\n"
     ]
    }
   ],
   "source": [
    "for i in range(4):\n",
    "    current_cluster = clustered_data.loc[clustered_data.cluster == i]\n",
    "    print(f'Current cluster: {i}')\n",
    "    print(f'Size: {len(current_cluster)}, {round(len(current_cluster)/len(data)*100)}% of the data')\n",
    "    print('Gender:')\n",
    "    print(current_cluster.gender.value_counts(normalize=True))\n",
    "    print('Age:')\n",
    "    print(current_cluster.age.describe())\n",
    "    print('Category:')\n",
    "    print(current_cluster.category.value_counts(normalize=True))\n",
    "    print('Average quantity:')\n",
    "    print(current_cluster.quantity.mean())\n",
    "    print('Stddev:')\n",
    "    print(current_cluster.quantity.std())\n",
    "    print('Average price:')\n",
    "    print(current_cluster.price.mean())\n",
    "    print('Average price per item:')\n",
    "    print(current_cluster.avg_price_per_item.mean())"
   ]
  },
  {
   "cell_type": "markdown",
   "metadata": {},
   "source": [
    "Though I wasn't impressed with the model's silhouette score, I am somewhat impressed with the clusters themselves.\n",
    "\n",
    "To me, it looks like cluster 0 could be men buying gifts for women, cluster 1 is almost certainly parents buying gifts for their children, cluster 2 is women shopping for themselves, and cluster 3 is people shopping for shoes or technology. It's interesting to me that shoes and technology ended up being grouped together - they appear to be the two highest spend categories in the dataset."
   ]
  },
  {
   "cell_type": "markdown",
   "metadata": {},
   "source": [
    "The next step for this analysis is to visualize the results of the clustering."
   ]
  },
  {
   "cell_type": "code",
   "execution_count": 178,
   "metadata": {},
   "outputs": [
    {
     "data": {
      "text/html": [
       "<div>\n",
       "<style scoped>\n",
       "    .dataframe tbody tr th:only-of-type {\n",
       "        vertical-align: middle;\n",
       "    }\n",
       "\n",
       "    .dataframe tbody tr th {\n",
       "        vertical-align: top;\n",
       "    }\n",
       "\n",
       "    .dataframe thead th {\n",
       "        text-align: right;\n",
       "    }\n",
       "</style>\n",
       "<table border=\"1\" class=\"dataframe\">\n",
       "  <thead>\n",
       "    <tr style=\"text-align: right;\">\n",
       "      <th></th>\n",
       "      <th>customer_id</th>\n",
       "      <th>gender</th>\n",
       "      <th>age</th>\n",
       "      <th>category</th>\n",
       "      <th>quantity</th>\n",
       "      <th>price</th>\n",
       "      <th>payment_method</th>\n",
       "      <th>cluster</th>\n",
       "    </tr>\n",
       "  </thead>\n",
       "  <tbody>\n",
       "    <tr>\n",
       "      <th>0</th>\n",
       "      <td>44140</td>\n",
       "      <td>Female</td>\n",
       "      <td>28</td>\n",
       "      <td>Clothing</td>\n",
       "      <td>5</td>\n",
       "      <td>1500.40</td>\n",
       "      <td>Credit Card</td>\n",
       "      <td>2</td>\n",
       "    </tr>\n",
       "    <tr>\n",
       "      <th>1</th>\n",
       "      <td>3630</td>\n",
       "      <td>Male</td>\n",
       "      <td>21</td>\n",
       "      <td>Shoes</td>\n",
       "      <td>3</td>\n",
       "      <td>1800.51</td>\n",
       "      <td>Debit Card</td>\n",
       "      <td>3</td>\n",
       "    </tr>\n",
       "    <tr>\n",
       "      <th>2</th>\n",
       "      <td>52143</td>\n",
       "      <td>Male</td>\n",
       "      <td>20</td>\n",
       "      <td>Clothing</td>\n",
       "      <td>1</td>\n",
       "      <td>300.08</td>\n",
       "      <td>Cash</td>\n",
       "      <td>0</td>\n",
       "    </tr>\n",
       "    <tr>\n",
       "      <th>3</th>\n",
       "      <td>99029</td>\n",
       "      <td>Female</td>\n",
       "      <td>66</td>\n",
       "      <td>Shoes</td>\n",
       "      <td>5</td>\n",
       "      <td>3000.85</td>\n",
       "      <td>Credit Card</td>\n",
       "      <td>3</td>\n",
       "    </tr>\n",
       "    <tr>\n",
       "      <th>4</th>\n",
       "      <td>27838</td>\n",
       "      <td>Female</td>\n",
       "      <td>53</td>\n",
       "      <td>Books</td>\n",
       "      <td>4</td>\n",
       "      <td>60.60</td>\n",
       "      <td>Cash</td>\n",
       "      <td>2</td>\n",
       "    </tr>\n",
       "  </tbody>\n",
       "</table>\n",
       "</div>"
      ],
      "text/plain": [
       "   customer_id  gender  age  category  quantity    price payment_method  \\\n",
       "0        44140  Female   28  Clothing         5  1500.40    Credit Card   \n",
       "1         3630    Male   21     Shoes         3  1800.51     Debit Card   \n",
       "2        52143    Male   20  Clothing         1   300.08           Cash   \n",
       "3        99029  Female   66     Shoes         5  3000.85    Credit Card   \n",
       "4        27838  Female   53     Books         4    60.60           Cash   \n",
       "\n",
       "   cluster  \n",
       "0        2  \n",
       "1        3  \n",
       "2        0  \n",
       "3        3  \n",
       "4        2  "
      ]
     },
     "execution_count": 178,
     "metadata": {},
     "output_type": "execute_result"
    }
   ],
   "source": [
    "clustered_data.head()"
   ]
  },
  {
   "cell_type": "code",
   "execution_count": 191,
   "metadata": {},
   "outputs": [
    {
     "data": {
      "image/png": "[encoded data removed]",
      "text/plain": [
       "<Figure size 432x288 with 1 Axes>"
      ]
     },
     "metadata": {
      "needs_background": "light"
     },
     "output_type": "display_data"
    }
   ],
   "source": [
    "pca2 = PCA(n_components=2, random_state=34)\n",
    "transformed_in_2d = pca2.fit_transform(transformed)\n",
    "\n",
    "fig, ax = plt.subplots()\n",
    "\n",
    "plt.scatter(transformed_in_2d[:, 0], transformed_in_2d[:, 1], c=k_means.labels_, cmap='viridis');"
   ]
  },
  {
   "cell_type": "markdown",
   "metadata": {},
   "source": [
    "Reducing the dimensions of the original data to two principal components, we can visualize the four clusters as above.\n",
    "\n",
    "It is interesting that the blue and the yellow are in both lines and seem to run perpendicular to the two lines formed by the data, whereas the purple and green lie along the lines.\n",
    "\n",
    "However, as far as business applications, it will be more useful to visualize the key metrics associated with each cluster. My goal is to do this in a dashboard format."
   ]
  },
  {
   "cell_type": "markdown",
   "metadata": {},
   "source": [
    "#### Next Steps"
   ]
  },
  {
   "cell_type": "markdown",
   "metadata": {},
   "source": [
    "Create a dashboard with some or all of the following components:\n",
    "\n",
    "Top left\n",
    "\n",
    "LINE PLOT\n",
    "- Total spend for each mall month-over-month (line plot with markers, different colors; can you make the line bold and bring to the front with hover?)\n",
    "\n",
    "Bottom left\n",
    "\n",
    "MAP with DESCRIPTIVE STATS\n",
    "- Map with locations of the 10 malls as pins\n",
    "- Hover over pin (or click on pin) to see summary stats for that particular mall (e.g. total spend)\n",
    "- Comparison bubbles on the right side (avg. total spend, top category, etc. across all malls)\n",
    "\n",
    "Top right\n",
    "\n",
    "BAR CHARTS\n",
    "- Bar chart with total spend per cluster\n",
    "- to the left of above / towards middle: Bar chart with percentage of customers in each cluster\n",
    "- to the left of above / in the middle: Bar chart of payment methods by cluster (if there is room)\n",
    "\n",
    "Bottom right\n",
    "\n",
    "Linked PIE CHART and DESCRIPTIVE STATS for each category\n",
    "- Category pie charts per cluster (see below for dynamicity)\n",
    "- Breakout of average price per item, number of items, total spend *per category* by cluster (could be triggered by hovering over a particular category in the pie chart for a cluster)"
   ]
  },
  {
   "cell_type": "code",
   "execution_count": null,
   "metadata": {},
   "outputs": [],
   "source": []
  }
 ],
 "metadata": {
  "kernelspec": {
   "display_name": "Python (learn-env)",
   "language": "python",
   "name": "learn-env"
  },
  "language_info": {
   "codemirror_mode": {
    "name": "ipython",
    "version": 3
   },
   "file_extension": ".py",
   "mimetype": "text/x-python",
   "name": "python",
   "nbconvert_exporter": "python",
   "pygments_lexer": "ipython3",
   "version": "3.8.5"
  },
  "toc": {
   "base_numbering": 1,
   "nav_menu": {},
   "number_sections": false,
   "sideBar": true,
   "skip_h1_title": false,
   "title_cell": "Table of Contents",
   "title_sidebar": "Contents",
   "toc_cell": false,
   "toc_position": {},
   "toc_section_display": true,
   "toc_window_display": false
  }
 },
 "nbformat": 4,
 "nbformat_minor": 4
}
